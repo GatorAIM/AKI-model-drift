{
 "cells": [
  {
   "cell_type": "code",
   "execution_count": null,
   "id": "03ec9e4b-0ffe-4c3b-a1f3-5f7a618d20c2",
   "metadata": {
    "tags": []
   },
   "outputs": [],
   "source": [
    "from preprocessing5 import load_and_merge_data\n",
    "from preprocessing5 import rename_columns_with_mapping\n",
    "from preprocessing5 import apply_mice_imputation\n",
    "from preprocessing5 import save_imputed_data_by_year\n",
    "import matplotlib.pyplot as plt\n",
    "import pandas as pd\n",
    "import numpy as np\n",
    "import pickle\n",
    "from sklearn.model_selection import train_test_split\n",
    "from sklearn.metrics import roc_auc_score, precision_recall_curve, f1_score, precision_score, recall_score\n",
    "from xgboost import XGBClassifier\n",
    "from sklearn.utils import resample\n",
    "import os"
   ]
  },
  {
   "cell_type": "markdown",
   "id": "d0a7101c-5465-4a14-8f35-da66403e919a",
   "metadata": {},
   "source": [
    "# Step1 load data"
   ]
  },
  {
   "cell_type": "code",
   "execution_count": null,
   "id": "4ce00dfc-47b7-4752-ad40-bda03eb8e414",
   "metadata": {
    "tags": []
   },
   "outputs": [],
   "source": [
    "from utils import load_and_merge_data\n",
    "\n",
    "datafolder = './'\n",
    "site = 'KUMC'\n",
    "file_path = './'\n",
    "\n",
    "data = load_and_process_data(file_path, datafolder, site)\n"
   ]
  },
  {
   "cell_type": "markdown",
   "id": "aeb31830-f356-46b9-a1ed-ba6ee0f1f8c1",
   "metadata": {},
   "source": [
    "# Step2 Create feature name dictionary"
   ]
  },
  {
   "cell_type": "code",
   "execution_count": null,
   "id": "04ea00f6-c451-44ec-9dcc-7b4f4fc9f7c3",
   "metadata": {
    "tags": []
   },
   "outputs": [],
   "source": [
    "data = rename_columns_with_mapping(data)"
   ]
  },
  {
   "cell_type": "markdown",
   "id": "90444714-4b2b-4f3b-8885-370e9f4691e4",
   "metadata": {},
   "source": [
    "# Step3 MICE imputation"
   ]
  },
  {
   "cell_type": "code",
   "execution_count": null,
   "id": "735dc4bc-ecf5-45c2-94e2-2e3f3383fef2",
   "metadata": {
    "tags": []
   },
   "outputs": [],
   "source": [
    "excluded_columns = ['ENCOUNTERID', 'SINCE_ADMIT', 'PATID', 'ADMIT_DATE', 'BCCOVID', 'FLAG']\n",
    "data_by_year = apply_mice_imputation(data_by_year, excluded_columns)"
   ]
  },
  {
   "cell_type": "markdown",
   "id": "3da1159f-e960-488b-84b4-c8e90b834f7a",
   "metadata": {},
   "source": [
    "# Step4 Save imputed Data"
   ]
  },
  {
   "cell_type": "code",
   "execution_count": null,
   "id": "e9a01176-01ca-47f2-ab0f-d6aa5bb9cfb3",
   "metadata": {
    "tags": []
   },
   "outputs": [],
   "source": [
    "save_path = \"./\"\n",
    "save_imputed_data_by_year(data_by_year, save_path)"
   ]
  }
 ],
 "metadata": {
  "kernelspec": {
   "display_name": "AKI5",
   "language": "python",
   "name": "aki5"
  },
  "language_info": {
   "codemirror_mode": {
    "name": "ipython",
    "version": 3
   },
   "file_extension": ".py",
   "mimetype": "text/x-python",
   "name": "python",
   "nbconvert_exporter": "python",
   "pygments_lexer": "ipython3",
   "version": "3.8.19"
  }
 },
 "nbformat": 4,
 "nbformat_minor": 5
}
