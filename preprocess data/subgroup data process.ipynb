{
 "cells": [
  {
   "cell_type": "code",
   "execution_count": null,
   "id": "444d4d14-4d42-4409-b59c-985c47a96996",
   "metadata": {
    "tags": []
   },
   "outputs": [],
   "source": [
    "from preprocessing6 import load_disease_code_definitions\n",
    "from preprocessing6 import filter_dxdata_by_year\n",
    "from preprocessing6 import filter_all_diseases_by_code\n",
    "from preprocessing6 import process_filtered_data_by_year\n",
    "from preprocessing6 import process_all_filtered_dxdata\n",
    "from preprocessing6 import load_and_process_train_test_data\n",
    "from preprocessing6 import update_data_by_year_with_condition\n",
    "import matplotlib.pyplot as plt\n",
    "import pandas as pd\n",
    "import numpy as np\n",
    "import pickle\n",
    "from sklearn.model_selection import train_test_split\n",
    "from sklearn.metrics import roc_auc_score, precision_recall_curve, f1_score, precision_score, recall_score\n",
    "from xgboost import XGBClassifier\n",
    "from sklearn.utils import resample\n",
    "import os"
   ]
  },
  {
   "cell_type": "code",
   "execution_count": null,
   "id": "d4598e9d-0843-4369-baec-de3ca1007e19",
   "metadata": {
    "tags": []
   },
   "outputs": [],
   "source": [
    "dxdata_by_year = {}\n",
    "\n",
    "for year in range(2009, 2022):\n",
    "    file_path = f\"./\"\n",
    "    \n",
    "    try:\n",
    "        dxdata_by_year[year] = pd.read_parquet(file_path)\n",
    "    except Exception as e:\n"
   ]
  },
  {
   "cell_type": "markdown",
   "id": "fa08c58e-42df-4aa6-855b-4bc81b9dc500",
   "metadata": {},
   "source": [
    "# Step1 Define subgroup"
   ]
  },
  {
   "cell_type": "code",
   "execution_count": null,
   "id": "f8ff83c5-5bf0-4e0b-837c-3e98e2c67035",
   "metadata": {},
   "outputs": [],
   "source": [
    "(\n",
    "    ckd_codes,\n",
    "    ckd_codes_2,\n",
    "    Peripheral_vascular_code_2,\n",
    "    diabetes_codes,\n",
    "    diabetes_codes_2,\n",
    "    hypertension_essential_codes,\n",
    "    hypertension_all_codes,\n",
    "    hypertensive_disease_codes,\n",
    "    hepatitis_other_liver_diseases_codes,\n",
    "    chronic_liver_disease_codes_2,\n",
    "    circulatory_system_diseases_codes_2,\n",
    "    ischemic_heart_diseases_codes_2,\n",
    "    congestive_heart_failure_codes_2,\n",
    "    stroke_codes,\n",
    "    cardiovascular_diseases_codes,\n",
    "    cancer_codes_2,\n",
    "    copd_bronchiectasis_codes,\n",
    "    nutritional_deficiencies_codes,\n",
    "    other_nutritional_endocrine_immunity_metabolic_codes,\n",
    "    metabolic_disease_codes_2,\n",
    "    Alcohol_disorders_codes\n",
    ") = load_disease_code_definitions()"
   ]
  },
  {
   "cell_type": "markdown",
   "id": "5fb449f1-0a4c-4828-b549-6865f42feaef",
   "metadata": {},
   "source": [
    "# Clean data"
   ]
  },
  {
   "cell_type": "code",
   "execution_count": null,
   "id": "c5c70a1b-d0a6-4f59-a057-c06ff4ae4dd5",
   "metadata": {
    "tags": []
   },
   "outputs": [],
   "source": [
    "(\n",
    "    filtered_dxdata_by_year_ckd_codes,\n",
    "    filtered_dxdata_by_year_ckd_codes_2,\n",
    "    filtered_dxdata_by_year_diabetes_codes,\n",
    "    filtered_dxdata_by_year_diabetes_codes_2,\n",
    "    filtered_dxdata_by_year_hypertension_essential_codes,\n",
    "    filtered_dxdata_by_year_hypertension_all_codes,\n",
    "    filtered_dxdata_by_year_hypertensive_disease_codes,\n",
    "    filtered_dxdata_by_year_hepatitis_other_liver_diseases_codes,\n",
    "    filtered_dxdata_by_year_chronic_liver_disease_codes_2,\n",
    "    filtered_dxdata_by_year_circulatory_system_diseases_codes_2,\n",
    "    filtered_dxdata_by_year_ischemic_heart_diseases_codes_2,\n",
    "    filtered_dxdata_by_year_congestive_heart_failure_codes_2,\n",
    "    filtered_dxdata_by_year_stroke_codes,\n",
    "    filtered_dxdata_by_year_cardiovascular_diseases_codes,\n",
    "    filtered_dxdata_by_year_cancer_codes_2,\n",
    "    filtered_dxdata_by_year_copd_bronchiectasis_codes,\n",
    "    filtered_dxdata_by_year_nutritional_deficiencies_codes,\n",
    "    filtered_dxdata_by_year_other_nutritional_endocrine_immunity_metabolic_codes,\n",
    "    filtered_dxdata_by_year_metabolic_disease_codes_2,\n",
    "    filtered_dxdata_by_year_Alcohol_disorders_codes,\n",
    "    filtered_dxdata_by_year_Peripheral_vascular_code_2\n",
    ") = filter_all_diseases_by_code(\n",
    "    dxdata_by_year,\n",
    "    ckd_codes,\n",
    "    ckd_codes_2,\n",
    "    diabetes_codes,\n",
    "    diabetes_codes_2,\n",
    "    hypertension_essential_codes,\n",
    "    hypertension_all_codes,\n",
    "    hypertensive_disease_codes,\n",
    "    hepatitis_other_liver_diseases_codes,\n",
    "    chronic_liver_disease_codes_2,\n",
    "    circulatory_system_diseases_codes_2,\n",
    "    ischemic_heart_diseases_codes_2,\n",
    "    congestive_heart_failure_codes_2,\n",
    "    stroke_codes,\n",
    "    cardiovascular_diseases_codes,\n",
    "    cancer_codes_2,\n",
    "    copd_bronchiectasis_codes,\n",
    "    nutritional_deficiencies_codes,\n",
    "    other_nutritional_endocrine_immunity_metabolic_codes,\n",
    "    metabolic_disease_codes_2,\n",
    "    Alcohol_disorders_codes,\n",
    "    Peripheral_vascular_code_2\n",
    ")"
   ]
  },
  {
   "cell_type": "markdown",
   "id": "163b1518-6d55-4fe1-b719-df2a4f68baee",
   "metadata": {},
   "source": [
    "# Step2 Clean data "
   ]
  },
  {
   "cell_type": "code",
   "execution_count": null,
   "id": "1473214c-945c-49c4-b6fa-d391e3224f7e",
   "metadata": {
    "tags": []
   },
   "outputs": [],
   "source": [
    "(\n",
    "    filtered_dxdata_by_year_ckd_codes,\n",
    "    filtered_dxdata_by_year_ckd_codes_2,\n",
    "    filtered_dxdata_by_year_diabetes_codes,\n",
    "    filtered_dxdata_by_year_diabetes_codes_2,\n",
    "    filtered_dxdata_by_year_hypertension_essential_codes,\n",
    "    filtered_dxdata_by_year_hypertension_all_codes,\n",
    "    filtered_dxdata_by_year_hypertensive_disease_codes,\n",
    "    filtered_dxdata_by_year_hepatitis_other_liver_diseases_codes,\n",
    "    filtered_dxdata_by_year_chronic_liver_disease_codes_2,\n",
    "    filtered_dxdata_by_year_circulatory_system_diseases_codes_2,\n",
    "    filtered_dxdata_by_year_ischemic_heart_diseases_codes_2,\n",
    "    filtered_dxdata_by_year_congestive_heart_failure_codes_2,\n",
    "    filtered_dxdata_by_year_stroke_codes,\n",
    "    filtered_dxdata_by_year_cardiovascular_diseases_codes,\n",
    "    filtered_dxdata_by_year_cancer_codes_2,\n",
    "    filtered_dxdata_by_year_copd_bronchiectasis_codes,\n",
    "    filtered_dxdata_by_year_nutritional_deficiencies_codes,\n",
    "    filtered_dxdata_by_year_other_nutritional_endocrine_immunity_metabolic_codes,\n",
    "    filtered_dxdata_by_year_metabolic_disease_codes_2,\n",
    "    filtered_dxdata_by_year_Alcohol_disorders_codes,\n",
    "    filtered_dxdata_by_year_Peripheral_vascular_code_2\n",
    ") = process_all_filtered_dxdata(\n",
    "    filtered_dxdata_by_year_ckd_codes,\n",
    "    filtered_dxdata_by_year_ckd_codes_2,\n",
    "    filtered_dxdata_by_year_diabetes_codes,\n",
    "    filtered_dxdata_by_year_diabetes_codes_2,\n",
    "    filtered_dxdata_by_year_hypertension_essential_codes,\n",
    "    filtered_dxdata_by_year_hypertension_all_codes,\n",
    "    filtered_dxdata_by_year_hypertensive_disease_codes,\n",
    "    filtered_dxdata_by_year_hepatitis_other_liver_diseases_codes,\n",
    "    filtered_dxdata_by_year_chronic_liver_disease_codes_2,\n",
    "    filtered_dxdata_by_year_circulatory_system_diseases_codes_2,\n",
    "    filtered_dxdata_by_year_ischemic_heart_diseases_codes_2,\n",
    "    filtered_dxdata_by_year_congestive_heart_failure_codes_2,\n",
    "    filtered_dxdata_by_year_stroke_codes,\n",
    "    filtered_dxdata_by_year_cardiovascular_diseases_codes,\n",
    "    filtered_dxdata_by_year_cancer_codes_2,\n",
    "    filtered_dxdata_by_year_copd_bronchiectasis_codes,\n",
    "    filtered_dxdata_by_year_nutritional_deficiencies_codes,\n",
    "    filtered_dxdata_by_year_other_nutritional_endocrine_immunity_metabolic_codes,\n",
    "    filtered_dxdata_by_year_metabolic_disease_codes_2,\n",
    "    filtered_dxdata_by_year_Alcohol_disorders_codes,\n",
    "    filtered_dxdata_by_year_Peripheral_vascular_code_2\n",
    ")\n"
   ]
  },
  {
   "cell_type": "markdown",
   "id": "f98a587d-d07f-4481-96d7-a6c2a6ca9e4a",
   "metadata": {},
   "source": [
    "# Step3 Process data"
   ]
  },
  {
   "cell_type": "code",
   "execution_count": null,
   "id": "c6f1e645-eab1-4d5a-9ac6-9e8dff75230b",
   "metadata": {
    "tags": []
   },
   "outputs": [],
   "source": [
    "data_by_year_training, data_by_year_test = load_and_process_train_test_data(\"./\")"
   ]
  },
  {
   "cell_type": "code",
   "execution_count": null,
   "id": "7c8f0d7a-a88d-42a2-8a01-aa43472b6c56",
   "metadata": {
    "tags": []
   },
   "outputs": [],
   "source": [
    "filtered_dxdata_by_year_map = {\n",
    "    \"CKD\": filtered_dxdata_by_year_ckd_codes,\n",
    "    \"CKD_2\": filtered_dxdata_by_year_ckd_codes_2,\n",
    "    \"DIABETES\": filtered_dxdata_by_year_diabetes_codes,\n",
    "    \"DIABETES_2\": filtered_dxdata_by_year_diabetes_codes_2,\n",
    "    \"HYPERTENSION_ESSENTIAL\": filtered_dxdata_by_year_hypertension_essential_codes,\n",
    "    \"HYPERTENSION_ALL\": filtered_dxdata_by_year_hypertension_all_codes,\n",
    "    \"HYPERTENSIVE_DISEASE\": filtered_dxdata_by_year_hypertensive_disease_codes,\n",
    "    \"LIVER_DISEASE\": filtered_dxdata_by_year_hepatitis_other_liver_diseases_codes,\n",
    "    \"CHRONIC_LIVER_DISEASE\": filtered_dxdata_by_year_chronic_liver_disease_codes_2,\n",
    "    \"CIRCULATORY_SYSTEM\": filtered_dxdata_by_year_circulatory_system_diseases_codes_2,\n",
    "    \"ISCHEMIC_HEART_DISEASE\": filtered_dxdata_by_year_ischemic_heart_diseases_codes_2,\n",
    "    \"CONGESTIVE_HEART_FAILURE\": filtered_dxdata_by_year_congestive_heart_failure_codes_2,\n",
    "    \"STROKE\": filtered_dxdata_by_year_stroke_codes,\n",
    "    \"CARDIOVASCULAR_DISEASE\": filtered_dxdata_by_year_cardiovascular_diseases_codes,\n",
    "    \"CANCER\": filtered_dxdata_by_year_cancer_codes_2,\n",
    "    \"COPD\": filtered_dxdata_by_year_copd_bronchiectasis_codes,\n",
    "    \"PERIPHERAL_VASCULAR\": filtered_dxdata_by_year_Peripheral_vascular_code_2,  \n",
    "    \"NUTRITIONAL_DEFICIENCIES\": filtered_dxdata_by_year_nutritional_deficiencies_codes,  \n",
    "    \"METABOLIC_SYNDROME\": filtered_dxdata_by_year_metabolic_disease_codes_2, \n",
    "    \"SUBSTANCE_ABUSE\": filtered_dxdata_by_year_Alcohol_disorders_codes  \n",
    "}\n"
   ]
  },
  {
   "cell_type": "code",
   "execution_count": null,
   "id": "b20496b9-a62d-44e2-a11c-0a6c938ad636",
   "metadata": {},
   "outputs": [],
   "source": []
  },
  {
   "cell_type": "code",
   "execution_count": null,
   "id": "811224d4-41a4-45f6-9448-21c0d5c308ca",
   "metadata": {},
   "outputs": [],
   "source": [
    "for column_name, filtered_dxdata_by_year in filtered_dxdata_by_year_map.items():\n",
    "    update_data_by_year_with_condition(data_by_year_training, filtered_dxdata_by_year, column_name)"
   ]
  },
  {
   "cell_type": "code",
   "execution_count": null,
   "id": "7ba46792-87c2-46d3-9cee-ffd2d0f46c5b",
   "metadata": {
    "tags": []
   },
   "outputs": [],
   "source": [
    "for column_name, filtered_dxdata_by_year in filtered_dxdata_by_year_map.items():\n",
    "    update_data_by_year_with_condition(data_by_year_test, filtered_dxdata_by_year, column_name)"
   ]
  },
  {
   "cell_type": "code",
   "execution_count": null,
   "id": "a5b6095d-a6cb-4a38-a21d-e3bb50480c5c",
   "metadata": {
    "tags": []
   },
   "outputs": [],
   "source": [
    "save_path = \"./\"\n",
    "\n",
    "os.makedirs(save_path, exist_ok=True)\n",
    "\n",
    "for year in data_by_year_training.keys():\n",
    "    train_file_name = os.path.join(save_path, f\"training_data_{year}.csv\")\n",
    "    test_file_name = os.path.join(save_path, f\"test_data_{year}.csv\")\n",
    "    \n",
    "    data_by_year_training[year].to_csv(train_file_name, index=False)\n",
    "    data_by_year_test[year].to_csv(test_file_name, index=False)\n",
    "    \n",
    "    print(f\"Year {year}: Training data saved to {train_file_name}\")\n",
    "    print(f\"Year {year}: Test data saved to {test_file_name}\")\n",
    "\n",
    "print(\"All training and test datasets have been saved.\")\n"
   ]
  },
  {
   "cell_type": "code",
   "execution_count": null,
   "id": "fcc5e106-0bc4-4f35-9648-0099f7c08543",
   "metadata": {},
   "outputs": [],
   "source": []
  },
  {
   "cell_type": "code",
   "execution_count": null,
   "id": "09e8697b-4795-4da1-9701-ad1f5621a755",
   "metadata": {},
   "outputs": [],
   "source": []
  },
  {
   "cell_type": "code",
   "execution_count": null,
   "id": "c1786fc6-53f0-4549-b20c-24c1a0c3fc8a",
   "metadata": {},
   "outputs": [],
   "source": []
  },
  {
   "cell_type": "code",
   "execution_count": null,
   "id": "4076ec9c-582a-4543-935f-b10b2fc1754e",
   "metadata": {},
   "outputs": [],
   "source": []
  },
  {
   "cell_type": "code",
   "execution_count": null,
   "id": "2110f08c-2011-4fd2-b95c-eedc9b92f178",
   "metadata": {},
   "outputs": [],
   "source": []
  },
  {
   "cell_type": "code",
   "execution_count": null,
   "id": "92b312b5-f852-4c37-a480-6de06f5043ce",
   "metadata": {},
   "outputs": [],
   "source": []
  },
  {
   "cell_type": "code",
   "execution_count": null,
   "id": "b45847dd-1868-45e4-9717-9bfc55460d49",
   "metadata": {},
   "outputs": [],
   "source": []
  },
  {
   "cell_type": "code",
   "execution_count": null,
   "id": "6ca4aabb-658b-43c0-88eb-b75cf0a6b7ec",
   "metadata": {},
   "outputs": [],
   "source": []
  },
  {
   "cell_type": "code",
   "execution_count": null,
   "id": "8e4bf78e-a3fe-4aff-a4a1-35bc3a3fb540",
   "metadata": {},
   "outputs": [],
   "source": []
  },
  {
   "cell_type": "code",
   "execution_count": null,
   "id": "15e901ce-c506-48fa-ba4f-10fed75603a3",
   "metadata": {},
   "outputs": [],
   "source": []
  }
 ],
 "metadata": {
  "kernelspec": {
   "display_name": "AKI5",
   "language": "python",
   "name": "aki5"
  },
  "language_info": {
   "codemirror_mode": {
    "name": "ipython",
    "version": 3
   },
   "file_extension": ".py",
   "mimetype": "text/x-python",
   "name": "python",
   "nbconvert_exporter": "python",
   "pygments_lexer": "ipython3",
   "version": "3.8.19"
  }
 },
 "nbformat": 4,
 "nbformat_minor": 5
}
