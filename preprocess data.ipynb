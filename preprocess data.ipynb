{
 "cells": [
  {
   "cell_type": "code",
   "execution_count": null,
   "id": "190f43ac-2162-41c9-a5e1-2a9747290e32",
   "metadata": {
    "tags": []
   },
   "outputs": [],
   "source": [
    "import importlib\n",
    "\n",
    "#import ipynb.fs.full.preprocessing0\n",
    "import ipynb.fs.full.preprocessing05\n",
    "#import ipynb.fs.full.prepossessing075_akistage\n",
    "import preprocessing1\n",
    "#import ipynb.fs.full.preprocessing2_BT\n",
    "import preprocessing2_BT\n",
    "\n",
    "import ipynb.fs.full.preprocessing25_BTcorr\n",
    "import ipynb.fs.full.preprocessing3_smote\n",
    "#import ipynb.fs.full.preprocessing4\n",
    "import preprocessing4\n",
    "\n",
    "#import ipynb.fs.full.runxgboost\n",
    "#import runxgboost\n",
    "\n",
    "#import ipynb.fs.full.postprocessing1_SHAP\n",
    "\n",
    "import postprocessing1_SHAP\n",
    "\n",
    "import ipynb.fs.full.postprocessing3_collect\n",
    "\n",
    "#from ipynb.fs.full.slackbot import ping_slack\n",
    "import pandas as pd\n",
    "import xgboost as xgb\n",
    "import numpy as np\n",
    "import sklearn\n",
    "from sklearn.preprocessing import OneHotEncoder\n",
    "from sklearn.impute import SimpleImputer\n",
    "from imblearn.over_sampling import SMOTE\n",
    "from imblearn.pipeline import make_pipeline\n",
    "from imblearn.combine import SMOTEENN\n",
    "from imblearn.over_sampling import SMOTENC\n",
    "import matplotlib.pyplot as plt\n",
    "from PIL import Image\n",
    "from scipy.interpolate import BSpline, make_interp_spline, interp1d\n",
    "#import rpy2.robjects as robjects\n",
    "#from rpy2.robjects.packages import importr\n",
    "import csv\n",
    "from dfply import *\n",
    "from xgboost import XGBClassifier\n",
    "import itertools\n",
    "import os\n",
    "from tqdm import tqdm\n",
    "from os import listdir\n",
    "from os.path import isfile, join\n",
    "from os.path import exists\n",
    "import logging\n",
    "import time\n",
    "\n",
    "import utils_function"
   ]
  },
  {
   "cell_type": "code",
   "execution_count": null,
   "id": "17e82d91-dc7a-4a3f-97d7-db785f6183c3",
   "metadata": {
    "tags": []
   },
   "outputs": [],
   "source": [
    "#Reload library to update on any change\n",
    "#importlib.reload(ipynb.fs.full.preprocessing0)\n",
    "importlib.reload(ipynb.fs.full.preprocessing05)\n",
    "#importlib.reload(ipynb.fs.full.preapossessing075_akistage)\n",
    "importlib.reload(preprocessing1)\n",
    "importlib.reload(preprocessing2_BT)\n",
    "importlib.reload(ipynb.fs.full.preprocessing25_BTcorr)\n",
    "importlib.reload(ipynb.fs.full.preprocessing3_smote)\n",
    "# #importlib.reload(ipynb.fs.full.preprocessing4)\n",
    "importlib.reload(preprocessing4)\n",
    "#importlib.reload(runxgboost)\n",
    "importlib.reload(postprocessing1_SHAP)\n",
    "importlib.reload(ipynb.fs.full.postprocessing3_collect)\n",
    "importlib.reload(postprocessing1_SHAP)\n",
    "importlib.reload(utils_function)"
   ]
  },
  {
   "cell_type": "markdown",
   "id": "d593b823-223b-4218-beee-33f988a67286",
   "metadata": {
    "tags": []
   },
   "source": [
    "# Preprocessing "
   ]
  },
  {
   "cell_type": "code",
   "execution_count": null,
   "id": "4077e9e5-0440-4036-8186-696500729583",
   "metadata": {
    "tags": []
   },
   "outputs": [],
   "source": [
    "site_list = ['KUMC']\n",
    "for site in site_list:\n",
    "    configs_variables = utils_function.read_config(site, suffix='init', config_base_location='/home/xu.zijian/code/AKI_CDM_PY/configs_files/publish_config')\n",
    "    utils_function.write_config(configs_variables, suffix=site)\n",
    "    configs_variables\n",
    "    \n",
    "configs_variable = utils_function.read_config('KUMC')"
   ]
  },
  {
   "cell_type": "code",
   "execution_count": null,
   "id": "dba255dc-5ae6-495a-830a-1bfcb43a4b81",
   "metadata": {
    "tags": []
   },
   "outputs": [],
   "source": [
    "for year in range(2009,2022):\n",
    "    preprocessing1.demo(configs_variable,year)    "
   ]
  },
  {
   "cell_type": "code",
   "execution_count": null,
   "id": "bd43c881-d71d-45d5-a2f3-3577412fc0b0",
   "metadata": {
    "tags": []
   },
   "outputs": [],
   "source": [
    "for year in range(2009,2022):\n",
    "    preprocessing1.demo(configs_variable,year)\n",
    "    preprocessing1.vital(configs_variable,year)\n",
    "    preprocessing1.dx(configs_variable,year)\n",
    "    preprocessing1.px(configs_variable,year)\n",
    "    preprocessing1.lab(configs_variable,year)            \n",
    "    preprocessing1.amed(configs_variable,year)"
   ]
  },
  {
   "cell_type": "code",
   "execution_count": null,
   "id": "1db60c44-116b-47ee-8c9b-46f6a45e6c4e",
   "metadata": {},
   "outputs": [],
   "source": [
    "for year in range(2009,2022):\n",
    "    preprocessing2_BT.bigtable(configs_variable,year)"
   ]
  },
  {
   "cell_type": "code",
   "execution_count": null,
   "id": "4b74ccf6-bf7f-42ba-8e8b-f1d84701b864",
   "metadata": {},
   "outputs": [],
   "source": [
    "preprocessing4.combinebtpos(configs_variable)"
   ]
  }
 ],
 "metadata": {
  "kernelspec": {
   "display_name": "AKI8",
   "language": "python",
   "name": "aki8"
  },
  "language_info": {
   "codemirror_mode": {
    "name": "ipython",
    "version": 3
   },
   "file_extension": ".py",
   "mimetype": "text/x-python",
   "name": "python",
   "nbconvert_exporter": "python",
   "pygments_lexer": "ipython3",
   "version": "3.13.1"
  }
 },
 "nbformat": 4,
 "nbformat_minor": 5
}
